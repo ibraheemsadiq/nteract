{
 "cells": [
  {
   "cell_type": "code",
   "execution_count": null,
   "metadata": {},
   "outputs": [],
   "source": [
    ""
   ]
  }
 ],
 "metadata": {
  "kernelspec": {
   "display_name": "Python 2",
   "language": "python",
   "name": "python2"
  },
  "nteract": {
   "version": "nteract-on-jupyter@2.0.13"
  }
 },
 "nbformat": 4,
 "nbformat_minor": 2
}
