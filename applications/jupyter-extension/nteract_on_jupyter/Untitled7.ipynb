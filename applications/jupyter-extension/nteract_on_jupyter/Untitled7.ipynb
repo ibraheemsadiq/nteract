{
 "cells": [
  {
   "cell_type": "code",
   "execution_count": null,
   "metadata": {},
   "outputs": [],
   "source": [
    ""
   ]
  }
 ],
 "metadata": {
  "kernelspec": {
   "display_name": "my_conda",
   "language": "python",
   "name": "my_conda"
  },
  "nteract": {
   "version": "nteract-on-jupyter@2.0.12"
  }
 },
 "nbformat": 4,
 "nbformat_minor": 2
}
